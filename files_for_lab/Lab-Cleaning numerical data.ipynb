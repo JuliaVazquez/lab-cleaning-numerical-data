{
 "cells": [
  {
   "cell_type": "markdown",
   "id": "5df8b4c1",
   "metadata": {},
   "source": [
    "For this lab, we will be using the dataset in the Customer Analysis Business Case. This dataset can be found in files_for_lab folder.\n",
    "\n",
    "### Context\n",
    "\n",
    "\n",
    "An auto insurance company has collected some data about its customers including their demographics, education, employment, policy details, vehicle information on which insurance policy is, and claim amounts. You will help the senior management with some business questions that will help them to better understand their customers, improve their services, and improve profitability."
   ]
  },
  {
   "cell_type": "markdown",
   "id": "37783a2e",
   "metadata": {},
   "source": [
    "### Some business Objectives:\n",
    "\n",
    "1. Retain customers,\n",
    "2. Analyze relevant customer data,\n",
    "3. Develop focused customer retention programs.\n",
    "\n",
    "\n",
    "Based on the analysis, take targeted actions to increase profitable customer response, retention, and growth.\n"
   ]
  },
  {
   "cell_type": "markdown",
   "id": "ca1187a4",
   "metadata": {},
   "source": [
    "### Instructions\n",
    "1. Import the necessary libraries.\n",
    "2. Load the we_fn_use_c_marketing_customer_value_analysis.csv into the variable customer_df\n",
    "3. First look at its main features (head, shape, info)."
   ]
  },
  {
   "cell_type": "code",
   "execution_count": null,
   "id": "7b9d7da4",
   "metadata": {},
   "outputs": [],
   "source": [
    "import pandas as pd\n",
    "import numpy as np\n",
    "import matplotlib.pyplot as plt\n",
    "import seaborn as sns \n",
    "%matplotlib inline"
   ]
  },
  {
   "cell_type": "code",
   "execution_count": null,
   "id": "c10ac2c9",
   "metadata": {},
   "outputs": [],
   "source": [
    "customer_df = pd.read_csv('we_fn_use_c_marketing_customer_value_analysis.csv')\n",
    "\n",
    "pd.set_option('display.max_columns', None)"
   ]
  },
  {
   "cell_type": "code",
   "execution_count": null,
   "id": "1d5562ef",
   "metadata": {},
   "outputs": [],
   "source": [
    "print(customer_df.shape)\n",
    "customer_df.head()"
   ]
  },
  {
   "cell_type": "code",
   "execution_count": null,
   "id": "90e7e709",
   "metadata": {},
   "outputs": [],
   "source": [
    "customer_df.dtypes"
   ]
  },
  {
   "cell_type": "markdown",
   "id": "8abc8d9b",
   "metadata": {},
   "source": [
    "4. Rename the columns so they follow the PE8 (snake case) (lower_case_with_underscores)\n"
   ]
  },
  {
   "cell_type": "code",
   "execution_count": null,
   "id": "9a9462a4",
   "metadata": {},
   "outputs": [],
   "source": [
    "new_cols = []\n",
    "for i in customer_df.columns:\n",
    "    new_cols.append(i.lower().replace(' ','_'))\n",
    "    \n",
    "customer_df.columns = new_cols\n",
    "customer_df.columns"
   ]
  },
  {
   "cell_type": "markdown",
   "id": "adbfd9f5",
   "metadata": {},
   "source": [
    "\n",
    "5. Change effective to date column to datetime format."
   ]
  },
  {
   "cell_type": "code",
   "execution_count": null,
   "id": "7f9192a5",
   "metadata": {},
   "outputs": [],
   "source": [
    "customer_df['effective_to_date'] = customer_df['effective_to_date'].apply(pd.to_datetime)\n",
    "customer_df.dtypes"
   ]
  },
  {
   "cell_type": "markdown",
   "id": "c90aafa0",
   "metadata": {},
   "source": [
    "6. Define a function that differentiates between continuous and discrete variables. Hint: The number of unique values might be useful. Store continuous data into a continuous_df variable and do the same for discrete_df\n",
    "\n"
   ]
  },
  {
   "cell_type": "code",
   "execution_count": null,
   "id": "c8bfea9b",
   "metadata": {},
   "outputs": [],
   "source": [
    "for col in customer_df:\n",
    "    print(customer_df[col].nunique())"
   ]
  },
  {
   "cell_type": "code",
   "execution_count": null,
   "id": "89ebf34d",
   "metadata": {},
   "outputs": [],
   "source": [
    "for col in customer_df:\n",
    "    if customer_df[col].nunique() <= 100: \n",
    "        print(customer_df[col].name)\n",
    "        print(customer_df[col].dtypes)\n",
    "        print(customer_df[col].unique())\n"
   ]
  },
  {
   "cell_type": "code",
   "execution_count": null,
   "id": "75c99414",
   "metadata": {},
   "outputs": [],
   "source": [
    "for col in customer_df:\n",
    "    if (customer_df[col].nunique() <= 100) & (customer_df[col].dtypes != object): \n",
    "        print(customer_df[col].name)\n",
    "        print(customer_df[col].dtypes)\n",
    "        print(customer_df[col].unique())"
   ]
  },
  {
   "cell_type": "code",
   "execution_count": null,
   "id": "75831fc3",
   "metadata": {},
   "outputs": [],
   "source": [
    "# converting info from effective_to_date into 2 groups: January/February\n",
    "\n",
    "customer_df['month'] = pd.DatetimeIndex(customer_df['effective_to_date']).month\n",
    "customer_df['month'] = np.where(customer_df['month'].isin([2]), 'February', 'January')\n",
    "customer_df"
   ]
  },
  {
   "cell_type": "code",
   "execution_count": null,
   "id": "409e13d9",
   "metadata": {},
   "outputs": [],
   "source": [
    "customer_df['months_since_policy_inception'].unique()"
   ]
  },
  {
   "cell_type": "code",
   "execution_count": null,
   "id": "4d01edfd",
   "metadata": {},
   "outputs": [],
   "source": [
    "# converting months_since_policy_inception into years, so we have less variables\n",
    "\n",
    "names = [0,1,2,3,4,5,6,7]\n",
    "bins = pd.cut(customer_df['months_since_policy_inception'],[-1,11,23,35,47,59,71,83,101], labels = names)\n",
    "customer_df['years_since_policy_inception'] = bins\n",
    "customer_df"
   ]
  },
  {
   "cell_type": "code",
   "execution_count": null,
   "id": "faa4d297",
   "metadata": {},
   "outputs": [],
   "source": [
    "# defining the function to separate categoricals, numericals continuous and discrete\n",
    "\n",
    "def disc_cont(df):\n",
    "    ob_col = []\n",
    "    dis_col = []\n",
    "    con_col = []\n",
    "    for col in df:\n",
    "        if df[col].dtypes == object:\n",
    "            ob_col.append(df[col].name)\n",
    "        elif df[col].nunique() <= 100: \n",
    "            dis_col.append(df[col].name)\n",
    "        else:\n",
    "            con_col.append(df[col].name)\n",
    "\n",
    "    object_df = df[ob_col].copy()\n",
    "    discrete_df = df[dis_col].copy()\n",
    "    continuous_df = df[con_col].copy()\n",
    "    return(object_df,discrete_df, continuous_df)"
   ]
  },
  {
   "cell_type": "code",
   "execution_count": null,
   "id": "82174d56",
   "metadata": {},
   "outputs": [],
   "source": [
    "object_df, discrete_df, continuous_df = disc_cont(customer_df)"
   ]
  },
  {
   "cell_type": "code",
   "execution_count": null,
   "id": "c8cc787e",
   "metadata": {},
   "outputs": [],
   "source": [
    "discrete_df = discrete_df.drop(['effective_to_date','months_since_policy_inception'],axis=1)\n",
    "discrete_df"
   ]
  },
  {
   "cell_type": "markdown",
   "id": "143417f6",
   "metadata": {},
   "source": [
    "7. Plot a correlation matrix, comment what you see.\n",
    "\n",
    "8. Create a function to plot every discrete variable. Do the same with the continuous variables (Be Careful, you may need to change the plot type to one better suited for continuous data!)\n",
    "\n",
    "9. Comment what you can see in the plots.\n"
   ]
  },
  {
   "cell_type": "code",
   "execution_count": null,
   "id": "6c0a670f",
   "metadata": {},
   "outputs": [],
   "source": [
    "customer_df.corr()"
   ]
  },
  {
   "cell_type": "markdown",
   "id": "11c5c97d",
   "metadata": {},
   "source": [
    "There is only one correlation higher than 0.5, and it's the one between total_claim_amount and monthly_premium_auto, we'll have to check later if it gives us problems"
   ]
  },
  {
   "cell_type": "code",
   "execution_count": null,
   "id": "9ed8b78a",
   "metadata": {},
   "outputs": [],
   "source": [
    "def dis_plots(df):\n",
    "    for col in df:\n",
    "        sns.displot(df[col], kde=True) \n",
    "        plt.show()"
   ]
  },
  {
   "cell_type": "code",
   "execution_count": null,
   "id": "e493df37",
   "metadata": {},
   "outputs": [],
   "source": [
    "def scatter_plots(df):\n",
    "    for col1 in df:\n",
    "        for col2 in df:\n",
    "            if col1 != col2:\n",
    "                sns.scatterplot(x=df[col1], y=df[col2])\n",
    "                plt.show()"
   ]
  },
  {
   "cell_type": "code",
   "execution_count": null,
   "id": "70e61f4c",
   "metadata": {},
   "outputs": [],
   "source": [
    "def hist_plots(df):\n",
    "    for col in df:\n",
    "        df[col].hist(bins=(df[col].nunique()))  \n",
    "        plt.xlabel(df[col].name)  \n",
    "        plt.show()   \n"
   ]
  },
  {
   "cell_type": "code",
   "execution_count": null,
   "id": "d6c92341",
   "metadata": {},
   "outputs": [],
   "source": [
    "dis_plots(continuous_df)"
   ]
  },
  {
   "cell_type": "code",
   "execution_count": null,
   "id": "a1f5094d",
   "metadata": {},
   "outputs": [],
   "source": [
    "hist_plots(discrete_df)"
   ]
  },
  {
   "cell_type": "markdown",
   "id": "d298ca41",
   "metadata": {},
   "source": [
    "\n",
    "10. Look for outliers in the continuous variables. (HINT: There’s a good plot to do that!)\n",
    "\n",
    "11. Did you find outliers? Comment what you will do with them."
   ]
  },
  {
   "cell_type": "code",
   "execution_count": null,
   "id": "cd6a4488",
   "metadata": {},
   "outputs": [],
   "source": [
    "for col in continuous_df:\n",
    "    continuous_df[[col]].boxplot()\n",
    "    plt.show()"
   ]
  },
  {
   "cell_type": "markdown",
   "id": "91de6adc",
   "metadata": {},
   "source": [
    "\n",
    "\n",
    "12. Check all columns for NaN values. Decide what (if anything) you will need to do with them."
   ]
  },
  {
   "cell_type": "code",
   "execution_count": null,
   "id": "8d109f74",
   "metadata": {},
   "outputs": [],
   "source": [
    "customer_df.isna().sum()"
   ]
  },
  {
   "cell_type": "markdown",
   "id": "659159e2",
   "metadata": {},
   "source": [
    "### For this lab, we will be using the dataset in the Customer Analysis Business Case. This dataset can be found in files_for_lab folder. In this lab we will explore categorical data.\n",
    "\n",
    "#### Instructions\n",
    "1. Import the necessary libraries if you are starting a new notebook. Using the same data as the previous lab: we_fn_use_c_marketing_customer_value_analysis.csv\n",
    "2. Find all of the categorical data. Save it in a categorical_df variable.\n",
    "\n",
    "3. Check for NaN values.\n"
   ]
  },
  {
   "cell_type": "code",
   "execution_count": null,
   "id": "8b60a5de",
   "metadata": {},
   "outputs": [],
   "source": [
    "categorical_df = object_df.drop(['customer'],axis=1)"
   ]
  },
  {
   "cell_type": "markdown",
   "id": "4a3fd160",
   "metadata": {},
   "source": [
    "4. Check all unique values of columns.\n",
    "\n",
    "5. Check dtypes. Do they all make sense as categorical data?\n",
    "6. Does any column contain alpha and numeric data? Decide how to clean it.\n",
    "\n",
    "7. Would you choose to do anything else to clean or wrangle the categorical data? Comment your decisions.\n",
    "\n",
    "\n",
    "\n"
   ]
  },
  {
   "cell_type": "markdown",
   "id": "585572d1",
   "metadata": {},
   "source": [
    "All dtypes make sense as categorical data, the 'customer' column could be dropped in next steps if needed, because they are all unique values.\n",
    "\n",
    "I don't see any alpha numerical data to clean.\n",
    "\n",
    "I made 1 aditional column in previous steps, to group by month 'January' or 'February' when policies began."
   ]
  },
  {
   "cell_type": "code",
   "execution_count": null,
   "id": "bb3f16ed",
   "metadata": {},
   "outputs": [],
   "source": [
    "for col in categorical_df:\n",
    "    print(categorical_df[col].name)\n",
    "    print(categorical_df[col].dtypes)\n",
    "    print(categorical_df[col].unique())"
   ]
  },
  {
   "cell_type": "code",
   "execution_count": null,
   "id": "86684b16",
   "metadata": {},
   "outputs": [],
   "source": [
    "hist_plots(categorical_df)"
   ]
  },
  {
   "cell_type": "markdown",
   "id": "a664f3b6",
   "metadata": {},
   "source": [
    "8. Compare policy_type and policy. What information is contained in these columns. Can you identify what is important?"
   ]
  },
  {
   "cell_type": "code",
   "execution_count": null,
   "id": "b297eb4f",
   "metadata": {},
   "outputs": [],
   "source": [
    "sns.scatterplot(x=categorical_df['policy_type'], y=categorical_df['policy'])\n",
    "plt.show()"
   ]
  },
  {
   "cell_type": "markdown",
   "id": "394be978",
   "metadata": {},
   "source": [
    "\n",
    "\n",
    "policy_type and policy have the same information, but one of them a bit more extensive, about the type of auto the policy is about and the policy given, so they have redundant data, we could keep just one of them.\n"
   ]
  },
  {
   "cell_type": "markdown",
   "id": "8e59d750",
   "metadata": {},
   "source": [
    "9. Check number of unique values in each column, can they be combined in any way to ease encoding? Comment your thoughts and make those changes."
   ]
  },
  {
   "cell_type": "code",
   "execution_count": null,
   "id": "48669bb1",
   "metadata": {},
   "outputs": [],
   "source": [
    "#  in this case we could combine Master and Doctor to ease the encoding\n",
    "\n",
    "categorical_df['education'].hist(bins=(categorical_df['education'].nunique()))  \n",
    "plt.xlabel(categorical_df['education'].name)  \n",
    "plt.show()  "
   ]
  },
  {
   "cell_type": "code",
   "execution_count": null,
   "id": "a7a07129",
   "metadata": {},
   "outputs": [],
   "source": [
    "# in this case we could combine all the unemployed columns\n",
    "\n",
    "categorical_df['employmentstatus'].hist(bins=(categorical_df['employmentstatus'].nunique()))  \n",
    "plt.xlabel(categorical_df['employmentstatus'].name)  \n",
    "plt.show()  "
   ]
  },
  {
   "cell_type": "code",
   "execution_count": null,
   "id": "5640b617",
   "metadata": {},
   "outputs": [],
   "source": [
    "# in this case we could combine all the luxury cars together\n",
    "\n",
    "categorical_df['vehicle_class'].hist(bins=(categorical_df['vehicle_class'].nunique()))  \n",
    "plt.xlabel(categorical_df['vehicle_class'].name)  \n",
    "plt.show()  "
   ]
  }
 ],
 "metadata": {
  "kernelspec": {
   "display_name": "Python 3 (ipykernel)",
   "language": "python",
   "name": "python3"
  },
  "language_info": {
   "codemirror_mode": {
    "name": "ipython",
    "version": 3
   },
   "file_extension": ".py",
   "mimetype": "text/x-python",
   "name": "python",
   "nbconvert_exporter": "python",
   "pygments_lexer": "ipython3",
   "version": "3.9.12"
  }
 },
 "nbformat": 4,
 "nbformat_minor": 5
}
